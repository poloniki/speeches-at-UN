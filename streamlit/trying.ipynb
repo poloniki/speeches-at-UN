{
 "cells": [
  {
   "cell_type": "code",
   "execution_count": 1,
   "metadata": {},
   "outputs": [],
   "source": [
    "import pandas as pd"
   ]
  },
  {
   "cell_type": "code",
   "execution_count": 2,
   "metadata": {},
   "outputs": [],
   "source": [
    "data = pd.read_csv('/home/ricorenzo/code/renzorico/speeches-at-UN/raw_data/speeches_with_paragraphs_processed_tt.csv')"
   ]
  },
  {
   "cell_type": "code",
   "execution_count": 3,
   "metadata": {},
   "outputs": [
    {
     "data": {
      "text/plain": [
       "Index(['Unnamed: 0', 'iso', 'year', 'speeches', 'country_dup',\n",
       "       'Name of Person Speaking', 'Post', 'order', 'country', 'speech_length',\n",
       "       'topic_num', 'topic', 'score'],\n",
       "      dtype='object')"
      ]
     },
     "execution_count": 3,
     "metadata": {},
     "output_type": "execute_result"
    }
   ],
   "source": [
    "data.columns"
   ]
  },
  {
   "cell_type": "code",
   "execution_count": 6,
   "metadata": {},
   "outputs": [],
   "source": [
    "data = data.drop(['Unnamed: 0', 'iso', 'country_dup','Name of Person Speaking', 'Post', 'order', 'speech_length', 'score'],axis=1)"
   ]
  },
  {
   "cell_type": "code",
   "execution_count": 7,
   "metadata": {},
   "outputs": [
    {
     "data": {
      "text/plain": [
       "Index(['year', 'speeches', 'country', 'topic_num', 'topic'], dtype='object')"
      ]
     },
     "execution_count": 7,
     "metadata": {},
     "output_type": "execute_result"
    }
   ],
   "source": [
    "data.columns"
   ]
  },
  {
   "cell_type": "code",
   "execution_count": 8,
   "metadata": {},
   "outputs": [
    {
     "data": {
      "text/html": [
       "<div>\n",
       "<style scoped>\n",
       "    .dataframe tbody tr th:only-of-type {\n",
       "        vertical-align: middle;\n",
       "    }\n",
       "\n",
       "    .dataframe tbody tr th {\n",
       "        vertical-align: top;\n",
       "    }\n",
       "\n",
       "    .dataframe thead th {\n",
       "        text-align: right;\n",
       "    }\n",
       "</style>\n",
       "<table border=\"1\" class=\"dataframe\">\n",
       "  <thead>\n",
       "    <tr style=\"text-align: right;\">\n",
       "      <th></th>\n",
       "      <th>year</th>\n",
       "      <th>speeches</th>\n",
       "      <th>country</th>\n",
       "      <th>topic_num</th>\n",
       "      <th>topic</th>\n",
       "    </tr>\n",
       "  </thead>\n",
       "  <tbody>\n",
       "    <tr>\n",
       "      <th>0</th>\n",
       "      <td>1950.0</td>\n",
       "      <td>Never before have men throughout the world mor...</td>\n",
       "      <td>Belgium</td>\n",
       "      <td>3</td>\n",
       "      <td>war</td>\n",
       "    </tr>\n",
       "    <tr>\n",
       "      <th>1</th>\n",
       "      <td>1950.0</td>\n",
       "      <td>We have used these great, just and noble words...</td>\n",
       "      <td>Belgium</td>\n",
       "      <td>3</td>\n",
       "      <td>war</td>\n",
       "    </tr>\n",
       "    <tr>\n",
       "      <th>2</th>\n",
       "      <td>1950.0</td>\n",
       "      <td>These are not, of course, the only lessons of ...</td>\n",
       "      <td>Belgium</td>\n",
       "      <td>3</td>\n",
       "      <td>war</td>\n",
       "    </tr>\n",
       "    <tr>\n",
       "      <th>3</th>\n",
       "      <td>1950.0</td>\n",
       "      <td>From the first day, the general debate in the ...</td>\n",
       "      <td>Belgium</td>\n",
       "      <td>14</td>\n",
       "      <td>multilateralism</td>\n",
       "    </tr>\n",
       "    <tr>\n",
       "      <th>4</th>\n",
       "      <td>1950.0</td>\n",
       "      <td>I had listened attentively to Mr. Vyshinsky’s ...</td>\n",
       "      <td>Belgium</td>\n",
       "      <td>14</td>\n",
       "      <td>multilateralism</td>\n",
       "    </tr>\n",
       "  </tbody>\n",
       "</table>\n",
       "</div>"
      ],
      "text/plain": [
       "     year                                           speeches  country  \\\n",
       "0  1950.0  Never before have men throughout the world mor...  Belgium   \n",
       "1  1950.0  We have used these great, just and noble words...  Belgium   \n",
       "2  1950.0  These are not, of course, the only lessons of ...  Belgium   \n",
       "3  1950.0  From the first day, the general debate in the ...  Belgium   \n",
       "4  1950.0  I had listened attentively to Mr. Vyshinsky’s ...  Belgium   \n",
       "\n",
       "   topic_num            topic  \n",
       "0          3              war  \n",
       "1          3              war  \n",
       "2          3              war  \n",
       "3         14  multilateralism  \n",
       "4         14  multilateralism  "
      ]
     },
     "execution_count": 8,
     "metadata": {},
     "output_type": "execute_result"
    }
   ],
   "source": [
    "data.head()"
   ]
  },
  {
   "cell_type": "code",
   "execution_count": null,
   "metadata": {},
   "outputs": [],
   "source": []
  }
 ],
 "metadata": {
  "kernelspec": {
   "display_name": "speeches-UN",
   "language": "python",
   "name": "python3"
  },
  "language_info": {
   "codemirror_mode": {
    "name": "ipython",
    "version": 3
   },
   "file_extension": ".py",
   "mimetype": "text/x-python",
   "name": "python",
   "nbconvert_exporter": "python",
   "pygments_lexer": "ipython3",
   "version": "3.10.6"
  },
  "orig_nbformat": 4
 },
 "nbformat": 4,
 "nbformat_minor": 2
}
