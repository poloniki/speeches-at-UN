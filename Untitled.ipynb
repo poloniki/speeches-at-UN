{
 "cells": [
  {
   "attachments": {},
   "cell_type": "markdown",
   "id": "1c638356",
   "metadata": {
    "heading_collapsed": true
   },
   "source": [
    "# Imports"
   ]
  },
  {
   "cell_type": "code",
   "execution_count": 26,
   "id": "d3c1f217",
   "metadata": {
    "hidden": true
   },
   "outputs": [
    {
     "name": "stdout",
     "output_type": "stream",
     "text": [
      "Requirement already satisfied: spacy in /root/.pyenv/versions/3.10.6/envs/speeches-UN/lib/python3.10/site-packages (3.5.3)\n",
      "Requirement already satisfied: spacy-legacy<3.1.0,>=3.0.11 in /root/.pyenv/versions/3.10.6/envs/speeches-UN/lib/python3.10/site-packages (from spacy) (3.0.12)\n",
      "Requirement already satisfied: spacy-loggers<2.0.0,>=1.0.0 in /root/.pyenv/versions/3.10.6/envs/speeches-UN/lib/python3.10/site-packages (from spacy) (1.0.4)\n",
      "Requirement already satisfied: murmurhash<1.1.0,>=0.28.0 in /root/.pyenv/versions/3.10.6/envs/speeches-UN/lib/python3.10/site-packages (from spacy) (1.0.9)\n",
      "Requirement already satisfied: cymem<2.1.0,>=2.0.2 in /root/.pyenv/versions/3.10.6/envs/speeches-UN/lib/python3.10/site-packages (from spacy) (2.0.7)\n",
      "Requirement already satisfied: preshed<3.1.0,>=3.0.2 in /root/.pyenv/versions/3.10.6/envs/speeches-UN/lib/python3.10/site-packages (from spacy) (3.0.8)\n",
      "Requirement already satisfied: thinc<8.2.0,>=8.1.8 in /root/.pyenv/versions/3.10.6/envs/speeches-UN/lib/python3.10/site-packages (from spacy) (8.1.10)\n",
      "Requirement already satisfied: wasabi<1.2.0,>=0.9.1 in /root/.pyenv/versions/3.10.6/envs/speeches-UN/lib/python3.10/site-packages (from spacy) (1.1.1)\n",
      "Requirement already satisfied: srsly<3.0.0,>=2.4.3 in /root/.pyenv/versions/3.10.6/envs/speeches-UN/lib/python3.10/site-packages (from spacy) (2.4.6)\n",
      "Requirement already satisfied: catalogue<2.1.0,>=2.0.6 in /root/.pyenv/versions/3.10.6/envs/speeches-UN/lib/python3.10/site-packages (from spacy) (2.0.8)\n",
      "Requirement already satisfied: typer<0.8.0,>=0.3.0 in /root/.pyenv/versions/3.10.6/envs/speeches-UN/lib/python3.10/site-packages (from spacy) (0.7.0)\n",
      "Requirement already satisfied: pathy>=0.10.0 in /root/.pyenv/versions/3.10.6/envs/speeches-UN/lib/python3.10/site-packages (from spacy) (0.10.1)\n",
      "Requirement already satisfied: smart-open<7.0.0,>=5.2.1 in /root/.pyenv/versions/3.10.6/envs/speeches-UN/lib/python3.10/site-packages (from spacy) (6.3.0)\n",
      "Requirement already satisfied: tqdm<5.0.0,>=4.38.0 in /root/.pyenv/versions/3.10.6/envs/speeches-UN/lib/python3.10/site-packages (from spacy) (4.65.0)\n",
      "Requirement already satisfied: numpy>=1.15.0 in /root/.pyenv/versions/3.10.6/envs/speeches-UN/lib/python3.10/site-packages (from spacy) (1.24.3)\n",
      "Requirement already satisfied: requests<3.0.0,>=2.13.0 in /root/.pyenv/versions/3.10.6/envs/speeches-UN/lib/python3.10/site-packages (from spacy) (2.31.0)\n",
      "Requirement already satisfied: pydantic!=1.8,!=1.8.1,<1.11.0,>=1.7.4 in /root/.pyenv/versions/3.10.6/envs/speeches-UN/lib/python3.10/site-packages (from spacy) (1.10.8)\n",
      "Requirement already satisfied: jinja2 in /root/.pyenv/versions/3.10.6/envs/speeches-UN/lib/python3.10/site-packages (from spacy) (3.1.2)\n",
      "Requirement already satisfied: setuptools in /root/.pyenv/versions/3.10.6/envs/speeches-UN/lib/python3.10/site-packages (from spacy) (63.2.0)\n",
      "Requirement already satisfied: packaging>=20.0 in /root/.pyenv/versions/3.10.6/envs/speeches-UN/lib/python3.10/site-packages (from spacy) (23.1)\n",
      "Requirement already satisfied: langcodes<4.0.0,>=3.2.0 in /root/.pyenv/versions/3.10.6/envs/speeches-UN/lib/python3.10/site-packages (from spacy) (3.3.0)\n",
      "Requirement already satisfied: typing-extensions>=4.2.0 in /root/.pyenv/versions/3.10.6/envs/speeches-UN/lib/python3.10/site-packages (from pydantic!=1.8,!=1.8.1,<1.11.0,>=1.7.4->spacy) (4.6.3)\n",
      "Requirement already satisfied: charset-normalizer<4,>=2 in /root/.pyenv/versions/3.10.6/envs/speeches-UN/lib/python3.10/site-packages (from requests<3.0.0,>=2.13.0->spacy) (3.1.0)\n",
      "Requirement already satisfied: idna<4,>=2.5 in /root/.pyenv/versions/3.10.6/envs/speeches-UN/lib/python3.10/site-packages (from requests<3.0.0,>=2.13.0->spacy) (3.4)\n",
      "Requirement already satisfied: urllib3<3,>=1.21.1 in /root/.pyenv/versions/3.10.6/envs/speeches-UN/lib/python3.10/site-packages (from requests<3.0.0,>=2.13.0->spacy) (2.0.2)\n",
      "Requirement already satisfied: certifi>=2017.4.17 in /root/.pyenv/versions/3.10.6/envs/speeches-UN/lib/python3.10/site-packages (from requests<3.0.0,>=2.13.0->spacy) (2023.5.7)\n",
      "Requirement already satisfied: blis<0.8.0,>=0.7.8 in /root/.pyenv/versions/3.10.6/envs/speeches-UN/lib/python3.10/site-packages (from thinc<8.2.0,>=8.1.8->spacy) (0.7.9)\n",
      "Requirement already satisfied: confection<1.0.0,>=0.0.1 in /root/.pyenv/versions/3.10.6/envs/speeches-UN/lib/python3.10/site-packages (from thinc<8.2.0,>=8.1.8->spacy) (0.0.4)\n",
      "Requirement already satisfied: click<9.0.0,>=7.1.1 in /root/.pyenv/versions/3.10.6/envs/speeches-UN/lib/python3.10/site-packages (from typer<0.8.0,>=0.3.0->spacy) (8.1.3)\n",
      "Requirement already satisfied: MarkupSafe>=2.0 in /root/.pyenv/versions/3.10.6/envs/speeches-UN/lib/python3.10/site-packages (from jinja2->spacy) (2.1.3)\n",
      "Collecting en-core-web-lg==3.5.0\n",
      "  Downloading https://github.com/explosion/spacy-models/releases/download/en_core_web_lg-3.5.0/en_core_web_lg-3.5.0-py3-none-any.whl (587.7 MB)\n",
      "\u001b[2K     \u001b[90m━━━━━━━━━━━━━━━━━━━━━━━━━━━━━━━━━━━━━━━\u001b[0m \u001b[32m587.7/587.7 MB\u001b[0m \u001b[31m1.9 MB/s\u001b[0m eta \u001b[36m0:00:00\u001b[0m00:01\u001b[0m00:05\u001b[0m\n",
      "\u001b[?25hRequirement already satisfied: spacy<3.6.0,>=3.5.0 in /root/.pyenv/versions/3.10.6/envs/speeches-UN/lib/python3.10/site-packages (from en-core-web-lg==3.5.0) (3.5.3)\n",
      "Requirement already satisfied: spacy-legacy<3.1.0,>=3.0.11 in /root/.pyenv/versions/3.10.6/envs/speeches-UN/lib/python3.10/site-packages (from spacy<3.6.0,>=3.5.0->en-core-web-lg==3.5.0) (3.0.12)\n",
      "Requirement already satisfied: spacy-loggers<2.0.0,>=1.0.0 in /root/.pyenv/versions/3.10.6/envs/speeches-UN/lib/python3.10/site-packages (from spacy<3.6.0,>=3.5.0->en-core-web-lg==3.5.0) (1.0.4)\n",
      "Requirement already satisfied: murmurhash<1.1.0,>=0.28.0 in /root/.pyenv/versions/3.10.6/envs/speeches-UN/lib/python3.10/site-packages (from spacy<3.6.0,>=3.5.0->en-core-web-lg==3.5.0) (1.0.9)\n",
      "Requirement already satisfied: cymem<2.1.0,>=2.0.2 in /root/.pyenv/versions/3.10.6/envs/speeches-UN/lib/python3.10/site-packages (from spacy<3.6.0,>=3.5.0->en-core-web-lg==3.5.0) (2.0.7)\n",
      "Requirement already satisfied: preshed<3.1.0,>=3.0.2 in /root/.pyenv/versions/3.10.6/envs/speeches-UN/lib/python3.10/site-packages (from spacy<3.6.0,>=3.5.0->en-core-web-lg==3.5.0) (3.0.8)\n",
      "Requirement already satisfied: thinc<8.2.0,>=8.1.8 in /root/.pyenv/versions/3.10.6/envs/speeches-UN/lib/python3.10/site-packages (from spacy<3.6.0,>=3.5.0->en-core-web-lg==3.5.0) (8.1.10)\n",
      "Requirement already satisfied: wasabi<1.2.0,>=0.9.1 in /root/.pyenv/versions/3.10.6/envs/speeches-UN/lib/python3.10/site-packages (from spacy<3.6.0,>=3.5.0->en-core-web-lg==3.5.0) (1.1.1)\n",
      "Requirement already satisfied: srsly<3.0.0,>=2.4.3 in /root/.pyenv/versions/3.10.6/envs/speeches-UN/lib/python3.10/site-packages (from spacy<3.6.0,>=3.5.0->en-core-web-lg==3.5.0) (2.4.6)\n",
      "Requirement already satisfied: catalogue<2.1.0,>=2.0.6 in /root/.pyenv/versions/3.10.6/envs/speeches-UN/lib/python3.10/site-packages (from spacy<3.6.0,>=3.5.0->en-core-web-lg==3.5.0) (2.0.8)\n",
      "Requirement already satisfied: typer<0.8.0,>=0.3.0 in /root/.pyenv/versions/3.10.6/envs/speeches-UN/lib/python3.10/site-packages (from spacy<3.6.0,>=3.5.0->en-core-web-lg==3.5.0) (0.7.0)\n",
      "Requirement already satisfied: pathy>=0.10.0 in /root/.pyenv/versions/3.10.6/envs/speeches-UN/lib/python3.10/site-packages (from spacy<3.6.0,>=3.5.0->en-core-web-lg==3.5.0) (0.10.1)\n",
      "Requirement already satisfied: smart-open<7.0.0,>=5.2.1 in /root/.pyenv/versions/3.10.6/envs/speeches-UN/lib/python3.10/site-packages (from spacy<3.6.0,>=3.5.0->en-core-web-lg==3.5.0) (6.3.0)\n",
      "Requirement already satisfied: tqdm<5.0.0,>=4.38.0 in /root/.pyenv/versions/3.10.6/envs/speeches-UN/lib/python3.10/site-packages (from spacy<3.6.0,>=3.5.0->en-core-web-lg==3.5.0) (4.65.0)\n",
      "Requirement already satisfied: numpy>=1.15.0 in /root/.pyenv/versions/3.10.6/envs/speeches-UN/lib/python3.10/site-packages (from spacy<3.6.0,>=3.5.0->en-core-web-lg==3.5.0) (1.24.3)\n",
      "Requirement already satisfied: requests<3.0.0,>=2.13.0 in /root/.pyenv/versions/3.10.6/envs/speeches-UN/lib/python3.10/site-packages (from spacy<3.6.0,>=3.5.0->en-core-web-lg==3.5.0) (2.31.0)\n",
      "Requirement already satisfied: pydantic!=1.8,!=1.8.1,<1.11.0,>=1.7.4 in /root/.pyenv/versions/3.10.6/envs/speeches-UN/lib/python3.10/site-packages (from spacy<3.6.0,>=3.5.0->en-core-web-lg==3.5.0) (1.10.8)\n",
      "Requirement already satisfied: jinja2 in /root/.pyenv/versions/3.10.6/envs/speeches-UN/lib/python3.10/site-packages (from spacy<3.6.0,>=3.5.0->en-core-web-lg==3.5.0) (3.1.2)\n",
      "Requirement already satisfied: setuptools in /root/.pyenv/versions/3.10.6/envs/speeches-UN/lib/python3.10/site-packages (from spacy<3.6.0,>=3.5.0->en-core-web-lg==3.5.0) (63.2.0)\n",
      "Requirement already satisfied: packaging>=20.0 in /root/.pyenv/versions/3.10.6/envs/speeches-UN/lib/python3.10/site-packages (from spacy<3.6.0,>=3.5.0->en-core-web-lg==3.5.0) (23.1)\n",
      "Requirement already satisfied: langcodes<4.0.0,>=3.2.0 in /root/.pyenv/versions/3.10.6/envs/speeches-UN/lib/python3.10/site-packages (from spacy<3.6.0,>=3.5.0->en-core-web-lg==3.5.0) (3.3.0)\n",
      "Requirement already satisfied: typing-extensions>=4.2.0 in /root/.pyenv/versions/3.10.6/envs/speeches-UN/lib/python3.10/site-packages (from pydantic!=1.8,!=1.8.1,<1.11.0,>=1.7.4->spacy<3.6.0,>=3.5.0->en-core-web-lg==3.5.0) (4.6.3)\n",
      "Requirement already satisfied: charset-normalizer<4,>=2 in /root/.pyenv/versions/3.10.6/envs/speeches-UN/lib/python3.10/site-packages (from requests<3.0.0,>=2.13.0->spacy<3.6.0,>=3.5.0->en-core-web-lg==3.5.0) (3.1.0)\n",
      "Requirement already satisfied: idna<4,>=2.5 in /root/.pyenv/versions/3.10.6/envs/speeches-UN/lib/python3.10/site-packages (from requests<3.0.0,>=2.13.0->spacy<3.6.0,>=3.5.0->en-core-web-lg==3.5.0) (3.4)\n",
      "Requirement already satisfied: urllib3<3,>=1.21.1 in /root/.pyenv/versions/3.10.6/envs/speeches-UN/lib/python3.10/site-packages (from requests<3.0.0,>=2.13.0->spacy<3.6.0,>=3.5.0->en-core-web-lg==3.5.0) (2.0.2)\n",
      "Requirement already satisfied: certifi>=2017.4.17 in /root/.pyenv/versions/3.10.6/envs/speeches-UN/lib/python3.10/site-packages (from requests<3.0.0,>=2.13.0->spacy<3.6.0,>=3.5.0->en-core-web-lg==3.5.0) (2023.5.7)\n",
      "Requirement already satisfied: blis<0.8.0,>=0.7.8 in /root/.pyenv/versions/3.10.6/envs/speeches-UN/lib/python3.10/site-packages (from thinc<8.2.0,>=8.1.8->spacy<3.6.0,>=3.5.0->en-core-web-lg==3.5.0) (0.7.9)\n",
      "Requirement already satisfied: confection<1.0.0,>=0.0.1 in /root/.pyenv/versions/3.10.6/envs/speeches-UN/lib/python3.10/site-packages (from thinc<8.2.0,>=8.1.8->spacy<3.6.0,>=3.5.0->en-core-web-lg==3.5.0) (0.0.4)\n",
      "Requirement already satisfied: click<9.0.0,>=7.1.1 in /root/.pyenv/versions/3.10.6/envs/speeches-UN/lib/python3.10/site-packages (from typer<0.8.0,>=0.3.0->spacy<3.6.0,>=3.5.0->en-core-web-lg==3.5.0) (8.1.3)\n",
      "Requirement already satisfied: MarkupSafe>=2.0 in /root/.pyenv/versions/3.10.6/envs/speeches-UN/lib/python3.10/site-packages (from jinja2->spacy<3.6.0,>=3.5.0->en-core-web-lg==3.5.0) (2.1.3)\n",
      "\u001b[38;5;2m✔ Download and installation successful\u001b[0m\n",
      "You can now load the package via spacy.load('en_core_web_lg')\n"
     ]
    }
   ],
   "source": [
    "! pip install spacy\n",
    "! python -m spacy download en_core_web_lg\n",
    "! pip install nltk"
   ]
  },
  {
   "cell_type": "code",
   "execution_count": null,
   "id": "01dbb9ad",
   "metadata": {},
   "outputs": [],
   "source": []
  },
  {
   "cell_type": "code",
   "execution_count": 1,
   "id": "52f62651",
   "metadata": {
    "hidden": true
   },
   "outputs": [],
   "source": [
    "# from sklearn.model_selection import GridSearchCV\n",
    "# from sklearn.pipeline import make_pipeline\n",
    "# from sklearn import set_config; set_config(\"diagram\")\n",
    "\n",
    "from sklearn.feature_extraction.text import TfidfVectorizer\n",
    "from spacy.lang.en.stop_words import STOP_WORDS\n",
    "from nltk.corpus import stopwords \n",
    "import pandas as pd\n",
    "import numpy as np\n",
    "import string\n",
    "import spacy\n",
    "import matplotlib.pyplot as plt\n",
    "import seaborn as sns"
   ]
  },
  {
   "attachments": {},
   "cell_type": "markdown",
   "id": "5f7d402b",
   "metadata": {
    "heading_collapsed": true
   },
   "source": [
    "# Data Prep"
   ]
  },
  {
   "cell_type": "code",
   "execution_count": 2,
   "id": "48d3b327",
   "metadata": {
    "hidden": true
   },
   "outputs": [],
   "source": [
    "# Load data\n",
    "\n",
    "speeches_df = pd.read_csv('raw_data/all_speeches.csv')\n"
   ]
  },
  {
   "cell_type": "code",
   "execution_count": 3,
   "id": "476eee72",
   "metadata": {},
   "outputs": [
    {
     "data": {
      "text/plain": [
       "0        Never before have men throughout the world mor...\n",
       "1        It is now five years since the United Nations ...\n",
       "2        At the conclusion of this general discussion, ...\n",
       "3        May I be permitted to congratulate the General...\n",
       "4        The era inaugurated by the creation of the Uni...\n",
       "                               ...                        \n",
       "10394    This has been an \\n enormously difficult year ...\n",
       "10395    At the outset, \\n I would like to congratulate...\n",
       "10396    This sixty-ninth session of the General Assemb...\n",
       "10397    Next year we will \\n celebrate the seventieth ...\n",
       "10398    “If you seek peace, prepare for war.” Those ar...\n",
       "Name: speeches, Length: 10399, dtype: object"
      ]
     },
     "execution_count": 3,
     "metadata": {},
     "output_type": "execute_result"
    }
   ],
   "source": [
    "speeches_df['speeches']"
   ]
  },
  {
   "cell_type": "code",
   "execution_count": 4,
   "id": "c05d8634",
   "metadata": {},
   "outputs": [],
   "source": [
    "stop_words = set(stopwords.words('english'))"
   ]
  },
  {
   "cell_type": "code",
   "execution_count": 6,
   "id": "55f35899",
   "metadata": {
    "hidden": true
   },
   "outputs": [],
   "source": [
    "# # Clean data\n",
    "\n",
    "# def basic_cleaning(speech):\n",
    "    \n",
    "#     speech = ''.join(char for char in speech if not char.isdigit())\n",
    "#     speech = speech.lower()\n",
    "\n",
    "#     for punctuation in string.punctuation:\n",
    "#         speech = speech.replace(punctuation, '') \n",
    "\n",
    "#     speech = speech.strip()\n",
    "    \n",
    "#     return speech"
   ]
  },
  {
   "cell_type": "code",
   "execution_count": 5,
   "id": "18092ef5",
   "metadata": {},
   "outputs": [],
   "source": [
    "def basic_cleaning(speech):\n",
    "    if isinstance(speech, str):\n",
    "        speech = ''.join(char for char in speech if not char.isdigit())\n",
    "        speech = speech.lower()\n",
    "        for punctuation in string.punctuation:\n",
    "            speech = speech.replace(punctuation, '')\n",
    "        speech = speech.strip()\n",
    "    else:\n",
    "        speech = ''\n",
    "    return speech"
   ]
  },
  {
   "cell_type": "code",
   "execution_count": 6,
   "id": "8f074b20",
   "metadata": {},
   "outputs": [],
   "source": [
    "nlp = spacy.load('en_core_web_lg')"
   ]
  },
  {
   "cell_type": "code",
   "execution_count": 7,
   "id": "101e3aa7",
   "metadata": {
    "hidden": true
   },
   "outputs": [],
   "source": [
    "# Preprocess data\n",
    "\n",
    "def preproc(speeches):\n",
    "    \n",
    "    doc = nlp(speeches)\n",
    "    \n",
    "    # tokens = [token.text for token in doc]\n",
    "    # pos_tags = [(token.text, token.pos_) for token in doc]\n",
    "    # ner = [(ent.text, ent.label_) for ent in doc.ents]\n",
    "    \n",
    "    filtered_tokens = [token.text for token in doc if not token.is_stop]\n",
    "    \n",
    "    lemmas = [token.lemma_ for token in doc if token.text in filtered_tokens]\n",
    "    \n",
    "    return lemmas"
   ]
  },
  {
   "cell_type": "code",
   "execution_count": 25,
   "id": "9e8e3f0b",
   "metadata": {},
   "outputs": [],
   "source": [
    "speeches_df['cleaned_speeches'] = speeches_df['speeches'].apply(basic_cleaning)\n",
    "speeches_df['preprocessed_speeches'] = speeches_df['cleaned_speeches'].apply(preproc)\n",
    "\n",
    "speeches_df['preprocessed_speeches'] = speeches_df['preprocessed_speeches'].apply(\" \".join)"
   ]
  },
  {
   "cell_type": "code",
   "execution_count": null,
   "id": "ad045293",
   "metadata": {},
   "outputs": [],
   "source": [
    "speeches_df.head()"
   ]
  },
  {
   "cell_type": "code",
   "execution_count": 8,
   "id": "d5ebdedc",
   "metadata": {},
   "outputs": [],
   "source": [
    "speeches_df['cleaned_speeches'] = speeches_df['speeches'].apply(basic_cleaning)"
   ]
  },
  {
   "attachments": {},
   "cell_type": "markdown",
   "id": "70876017",
   "metadata": {
    "heading_collapsed": true
   },
   "source": [
    "# Data Analysis"
   ]
  },
  {
   "cell_type": "code",
   "execution_count": 10,
   "id": "2fa0d220",
   "metadata": {
    "hidden": true
   },
   "outputs": [],
   "source": [
    "# Vectorization\n",
    "vectorizer = TfidfVectorizer()\n",
    "\n",
    "X = vectorizer.fit_transform(speeches_df['cleaned_speeches'][:6])\n",
    "X_array = X.toarray()"
   ]
  },
  {
   "cell_type": "code",
   "execution_count": 11,
   "id": "da1b7f88",
   "metadata": {
    "hidden": true
   },
   "outputs": [
    {
     "data": {
      "text/html": [
       "<div>\n",
       "<style scoped>\n",
       "    .dataframe tbody tr th:only-of-type {\n",
       "        vertical-align: middle;\n",
       "    }\n",
       "\n",
       "    .dataframe tbody tr th {\n",
       "        vertical-align: top;\n",
       "    }\n",
       "\n",
       "    .dataframe thead th {\n",
       "        text-align: right;\n",
       "    }\n",
       "</style>\n",
       "<table border=\"1\" class=\"dataframe\">\n",
       "  <thead>\n",
       "    <tr style=\"text-align: right;\">\n",
       "      <th></th>\n",
       "      <th>abandoned</th>\n",
       "      <th>abandoning</th>\n",
       "      <th>abandonment</th>\n",
       "      <th>abide</th>\n",
       "      <th>ability</th>\n",
       "      <th>able</th>\n",
       "      <th>abolish</th>\n",
       "      <th>abolished</th>\n",
       "      <th>abolition</th>\n",
       "      <th>about</th>\n",
       "      <th>...</th>\n",
       "      <th>year</th>\n",
       "      <th>yearnings</th>\n",
       "      <th>years</th>\n",
       "      <th>yet</th>\n",
       "      <th>york</th>\n",
       "      <th>you</th>\n",
       "      <th>your</th>\n",
       "      <th>youth</th>\n",
       "      <th>zealand</th>\n",
       "      <th>zealously</th>\n",
       "    </tr>\n",
       "  </thead>\n",
       "  <tbody>\n",
       "    <tr>\n",
       "      <th>0</th>\n",
       "      <td>0.000000</td>\n",
       "      <td>0.005986</td>\n",
       "      <td>0.000000</td>\n",
       "      <td>0.000000</td>\n",
       "      <td>0.000000</td>\n",
       "      <td>0.003552</td>\n",
       "      <td>0.000000</td>\n",
       "      <td>0.000000</td>\n",
       "      <td>0.000000</td>\n",
       "      <td>0.003552</td>\n",
       "      <td>...</td>\n",
       "      <td>0.000000</td>\n",
       "      <td>0.00000</td>\n",
       "      <td>0.005315</td>\n",
       "      <td>0.012268</td>\n",
       "      <td>0.005986</td>\n",
       "      <td>0.004909</td>\n",
       "      <td>0.000000</td>\n",
       "      <td>0.005986</td>\n",
       "      <td>0.000000</td>\n",
       "      <td>0.005986</td>\n",
       "    </tr>\n",
       "    <tr>\n",
       "      <th>1</th>\n",
       "      <td>0.000000</td>\n",
       "      <td>0.000000</td>\n",
       "      <td>0.004278</td>\n",
       "      <td>0.004278</td>\n",
       "      <td>0.000000</td>\n",
       "      <td>0.000000</td>\n",
       "      <td>0.004278</td>\n",
       "      <td>0.004278</td>\n",
       "      <td>0.004278</td>\n",
       "      <td>0.002538</td>\n",
       "      <td>...</td>\n",
       "      <td>0.000000</td>\n",
       "      <td>0.00000</td>\n",
       "      <td>0.003798</td>\n",
       "      <td>0.000000</td>\n",
       "      <td>0.000000</td>\n",
       "      <td>0.000000</td>\n",
       "      <td>0.000000</td>\n",
       "      <td>0.000000</td>\n",
       "      <td>0.025665</td>\n",
       "      <td>0.000000</td>\n",
       "    </tr>\n",
       "    <tr>\n",
       "      <th>2</th>\n",
       "      <td>0.000000</td>\n",
       "      <td>0.000000</td>\n",
       "      <td>0.000000</td>\n",
       "      <td>0.000000</td>\n",
       "      <td>0.000000</td>\n",
       "      <td>0.000000</td>\n",
       "      <td>0.000000</td>\n",
       "      <td>0.000000</td>\n",
       "      <td>0.000000</td>\n",
       "      <td>0.004345</td>\n",
       "      <td>...</td>\n",
       "      <td>0.005071</td>\n",
       "      <td>0.00000</td>\n",
       "      <td>0.006502</td>\n",
       "      <td>0.007505</td>\n",
       "      <td>0.000000</td>\n",
       "      <td>0.000000</td>\n",
       "      <td>0.000000</td>\n",
       "      <td>0.000000</td>\n",
       "      <td>0.000000</td>\n",
       "      <td>0.000000</td>\n",
       "    </tr>\n",
       "    <tr>\n",
       "      <th>3</th>\n",
       "      <td>0.000000</td>\n",
       "      <td>0.000000</td>\n",
       "      <td>0.000000</td>\n",
       "      <td>0.000000</td>\n",
       "      <td>0.014909</td>\n",
       "      <td>0.005897</td>\n",
       "      <td>0.000000</td>\n",
       "      <td>0.000000</td>\n",
       "      <td>0.000000</td>\n",
       "      <td>0.002948</td>\n",
       "      <td>...</td>\n",
       "      <td>0.000000</td>\n",
       "      <td>0.00497</td>\n",
       "      <td>0.004412</td>\n",
       "      <td>0.007638</td>\n",
       "      <td>0.000000</td>\n",
       "      <td>0.024451</td>\n",
       "      <td>0.009939</td>\n",
       "      <td>0.000000</td>\n",
       "      <td>0.000000</td>\n",
       "      <td>0.000000</td>\n",
       "    </tr>\n",
       "    <tr>\n",
       "      <th>4</th>\n",
       "      <td>0.000000</td>\n",
       "      <td>0.000000</td>\n",
       "      <td>0.000000</td>\n",
       "      <td>0.000000</td>\n",
       "      <td>0.000000</td>\n",
       "      <td>0.021561</td>\n",
       "      <td>0.000000</td>\n",
       "      <td>0.000000</td>\n",
       "      <td>0.000000</td>\n",
       "      <td>0.000000</td>\n",
       "      <td>...</td>\n",
       "      <td>0.015097</td>\n",
       "      <td>0.00000</td>\n",
       "      <td>0.003227</td>\n",
       "      <td>0.018620</td>\n",
       "      <td>0.000000</td>\n",
       "      <td>0.000000</td>\n",
       "      <td>0.000000</td>\n",
       "      <td>0.000000</td>\n",
       "      <td>0.000000</td>\n",
       "      <td>0.000000</td>\n",
       "    </tr>\n",
       "    <tr>\n",
       "      <th>5</th>\n",
       "      <td>0.010529</td>\n",
       "      <td>0.000000</td>\n",
       "      <td>0.000000</td>\n",
       "      <td>0.000000</td>\n",
       "      <td>0.000000</td>\n",
       "      <td>0.012493</td>\n",
       "      <td>0.000000</td>\n",
       "      <td>0.000000</td>\n",
       "      <td>0.000000</td>\n",
       "      <td>0.000000</td>\n",
       "      <td>...</td>\n",
       "      <td>0.014579</td>\n",
       "      <td>0.00000</td>\n",
       "      <td>0.004674</td>\n",
       "      <td>0.021577</td>\n",
       "      <td>0.000000</td>\n",
       "      <td>0.000000</td>\n",
       "      <td>0.000000</td>\n",
       "      <td>0.000000</td>\n",
       "      <td>0.000000</td>\n",
       "      <td>0.000000</td>\n",
       "    </tr>\n",
       "  </tbody>\n",
       "</table>\n",
       "<p>6 rows × 2886 columns</p>\n",
       "</div>"
      ],
      "text/plain": [
       "   abandoned  abandoning  abandonment     abide   ability      able   abolish  \\\n",
       "0   0.000000    0.005986     0.000000  0.000000  0.000000  0.003552  0.000000   \n",
       "1   0.000000    0.000000     0.004278  0.004278  0.000000  0.000000  0.004278   \n",
       "2   0.000000    0.000000     0.000000  0.000000  0.000000  0.000000  0.000000   \n",
       "3   0.000000    0.000000     0.000000  0.000000  0.014909  0.005897  0.000000   \n",
       "4   0.000000    0.000000     0.000000  0.000000  0.000000  0.021561  0.000000   \n",
       "5   0.010529    0.000000     0.000000  0.000000  0.000000  0.012493  0.000000   \n",
       "\n",
       "   abolished  abolition     about  ...      year  yearnings     years  \\\n",
       "0   0.000000   0.000000  0.003552  ...  0.000000    0.00000  0.005315   \n",
       "1   0.004278   0.004278  0.002538  ...  0.000000    0.00000  0.003798   \n",
       "2   0.000000   0.000000  0.004345  ...  0.005071    0.00000  0.006502   \n",
       "3   0.000000   0.000000  0.002948  ...  0.000000    0.00497  0.004412   \n",
       "4   0.000000   0.000000  0.000000  ...  0.015097    0.00000  0.003227   \n",
       "5   0.000000   0.000000  0.000000  ...  0.014579    0.00000  0.004674   \n",
       "\n",
       "        yet      york       you      your     youth   zealand  zealously  \n",
       "0  0.012268  0.005986  0.004909  0.000000  0.005986  0.000000   0.005986  \n",
       "1  0.000000  0.000000  0.000000  0.000000  0.000000  0.025665   0.000000  \n",
       "2  0.007505  0.000000  0.000000  0.000000  0.000000  0.000000   0.000000  \n",
       "3  0.007638  0.000000  0.024451  0.009939  0.000000  0.000000   0.000000  \n",
       "4  0.018620  0.000000  0.000000  0.000000  0.000000  0.000000   0.000000  \n",
       "5  0.021577  0.000000  0.000000  0.000000  0.000000  0.000000   0.000000  \n",
       "\n",
       "[6 rows x 2886 columns]"
      ]
     },
     "execution_count": 11,
     "metadata": {},
     "output_type": "execute_result"
    }
   ],
   "source": [
    "# Storing data\n",
    "\n",
    "df = pd.DataFrame(X_array, columns =vectorizer.get_feature_names_out() )\n",
    "df"
   ]
  },
  {
   "cell_type": "code",
   "execution_count": 12,
   "id": "572fc991",
   "metadata": {},
   "outputs": [],
   "source": [
    "word_scores = np.argmax(X_array, axis= 1)\n",
    "unique, counts = np.unique(word_scores, return_counts=True)\n",
    "word_count_df = dict(zip(unique, counts))\n",
    "word_count_df = pd.DataFrame({'word': word_count_df.keys(), 'counts': word_count_df.values()})"
   ]
  },
  {
   "cell_type": "code",
   "execution_count": 13,
   "id": "bf4edd70",
   "metadata": {},
   "outputs": [],
   "source": [
    "features_list = vectorizer.get_feature_names_out()\n",
    "\n",
    "word_count_df['feature'] = word_count_df['word'].apply(lambda x: features_list[x])\n",
    "word_count_df = word_count_df.drop('word', axis=1)"
   ]
  },
  {
   "cell_type": "code",
   "execution_count": 14,
   "id": "ee930739",
   "metadata": {},
   "outputs": [
    {
     "data": {
      "text/html": [
       "<div>\n",
       "<style scoped>\n",
       "    .dataframe tbody tr th:only-of-type {\n",
       "        vertical-align: middle;\n",
       "    }\n",
       "\n",
       "    .dataframe tbody tr th {\n",
       "        vertical-align: top;\n",
       "    }\n",
       "\n",
       "    .dataframe thead th {\n",
       "        text-align: right;\n",
       "    }\n",
       "</style>\n",
       "<table border=\"1\" class=\"dataframe\">\n",
       "  <thead>\n",
       "    <tr style=\"text-align: right;\">\n",
       "      <th></th>\n",
       "      <th>counts</th>\n",
       "      <th>feature</th>\n",
       "    </tr>\n",
       "  </thead>\n",
       "  <tbody>\n",
       "    <tr>\n",
       "      <th>0</th>\n",
       "      <td>6</td>\n",
       "      <td>the</td>\n",
       "    </tr>\n",
       "  </tbody>\n",
       "</table>\n",
       "</div>"
      ],
      "text/plain": [
       "   counts feature\n",
       "0       6     the"
      ]
     },
     "execution_count": 14,
     "metadata": {},
     "output_type": "execute_result"
    }
   ],
   "source": [
    "word_count_df"
   ]
  },
  {
   "cell_type": "code",
   "execution_count": 15,
   "id": "6d8b0217",
   "metadata": {},
   "outputs": [
    {
     "data": {
      "text/plain": [
       "<Axes: xlabel='feature', ylabel='counts'>"
      ]
     },
     "execution_count": 15,
     "metadata": {},
     "output_type": "execute_result"
    },
    {
     "data": {
      "image/png": "[encoded data removed]",
      "text/plain": [
       "<Figure size 1000x600 with 1 Axes>"
      ]
     },
     "metadata": {},
     "output_type": "display_data"
    }
   ],
   "source": [
    "# Create bar plot\n",
    "plt.figure(figsize=(10, 6))\n",
    "sns.barplot(data=word_count_df, x='feature', y= 'counts')"
   ]
  },
  {
   "cell_type": "code",
   "execution_count": null,
   "id": "dcff6cdc",
   "metadata": {},
   "outputs": [],
   "source": [
    "1) TfidfVectorizer\n",
    "2) lda\n",
    "3) berttopic"
   ]
  },
  {
   "attachments": {},
   "cell_type": "markdown",
   "id": "e3af103b",
   "metadata": {
    "heading_collapsed": true
   },
   "source": [
    "# Take a look later to make it better"
   ]
  },
  {
   "cell_type": "code",
   "execution_count": null,
   "id": "b2cdf5c6",
   "metadata": {
    "hidden": true
   },
   "outputs": [],
   "source": [
    "# my_pipe = make_pipeline(TfidfVectorizer()), #MultinomialNB())\n",
    "\n",
    "# parameters = {\n",
    "#     'tfidfvectorizer__ngram_range': ((1, 2), (2, 2), (2, 3), (3, 3)),\n",
    "#     #'multinomialnb__alpha': (0.1, 1)\n",
    "# }\n",
    "\n",
    "# search = GridSearchCV(\n",
    "#     my_pipe,\n",
    "#     parameters,\n",
    "#     scoring=\"accuracy\",\n",
    "#     cv=5,\n",
    "#     n_jobs=-1,\n",
    "#     verbose=1\n",
    "# )\n",
    "\n",
    "# search.fit(data.reviews, data.target)"
   ]
  }
 ],
 "metadata": {
  "kernelspec": {
   "display_name": "Python 3 (ipykernel)",
   "language": "python",
   "name": "python3"
  },
  "language_info": {
   "codemirror_mode": {
    "name": "ipython",
    "version": 3
   },
   "file_extension": ".py",
   "mimetype": "text/x-python",
   "name": "python",
   "nbconvert_exporter": "python",
   "pygments_lexer": "ipython3",
   "version": "3.10.6"
  },
  "toc": {
   "base_numbering": 1,
   "nav_menu": {},
   "number_sections": true,
   "sideBar": true,
   "skip_h1_title": false,
   "title_cell": "Table of Contents",
   "title_sidebar": "Contents",
   "toc_cell": false,
   "toc_position": {},
   "toc_section_display": true,
   "toc_window_display": false
  }
 },
 "nbformat": 4,
 "nbformat_minor": 5
}
